{
 "cells": [
  {
   "cell_type": "code",
   "execution_count": 6,
   "id": "fbc976b9-d9a6-48ed-ab8b-a47048c668e1",
   "metadata": {},
   "outputs": [],
   "source": [
    "import pandas as pd\n",
    "import numpy as np\n",
    "import matplotlib.pyplot as plt\n",
    "import seaborn as sns"
   ]
  },
  {
   "cell_type": "code",
   "execution_count": 7,
   "id": "5e91e979-56b1-4788-8f09-4ef88d5ab278",
   "metadata": {},
   "outputs": [
    {
     "data": {
      "text/html": [
       "<div>\n",
       "<style scoped>\n",
       "    .dataframe tbody tr th:only-of-type {\n",
       "        vertical-align: middle;\n",
       "    }\n",
       "\n",
       "    .dataframe tbody tr th {\n",
       "        vertical-align: top;\n",
       "    }\n",
       "\n",
       "    .dataframe thead th {\n",
       "        text-align: right;\n",
       "    }\n",
       "</style>\n",
       "<table border=\"1\" class=\"dataframe\">\n",
       "  <thead>\n",
       "    <tr style=\"text-align: right;\">\n",
       "      <th></th>\n",
       "      <th>Name</th>\n",
       "      <th>ID</th>\n",
       "      <th>NameType</th>\n",
       "      <th>Classification</th>\n",
       "      <th>Mass</th>\n",
       "      <th>Fall</th>\n",
       "      <th>Year</th>\n",
       "      <th>Coordinates</th>\n",
       "    </tr>\n",
       "  </thead>\n",
       "  <tbody>\n",
       "    <tr>\n",
       "      <th>0</th>\n",
       "      <td>Aachen</td>\n",
       "      <td>1</td>\n",
       "      <td>Valid</td>\n",
       "      <td>L5</td>\n",
       "      <td>Quantity[21, \"Grams\"]</td>\n",
       "      <td>Fell</td>\n",
       "      <td>DateObject[{1880}, \"Year\", \"Gregorian\", -5.]</td>\n",
       "      <td>GeoPosition[{50.775, 6.08333}]</td>\n",
       "    </tr>\n",
       "    <tr>\n",
       "      <th>1</th>\n",
       "      <td>Aarhus</td>\n",
       "      <td>2</td>\n",
       "      <td>Valid</td>\n",
       "      <td>H6</td>\n",
       "      <td>Quantity[720, \"Grams\"]</td>\n",
       "      <td>Fell</td>\n",
       "      <td>DateObject[{1951}, \"Year\", \"Gregorian\", -5.]</td>\n",
       "      <td>GeoPosition[{56.18333, 10.23333}]</td>\n",
       "    </tr>\n",
       "    <tr>\n",
       "      <th>2</th>\n",
       "      <td>Abee</td>\n",
       "      <td>6</td>\n",
       "      <td>Valid</td>\n",
       "      <td>EH4</td>\n",
       "      <td>Quantity[107000, \"Grams\"]</td>\n",
       "      <td>Fell</td>\n",
       "      <td>DateObject[{1952}, \"Year\", \"Gregorian\", -5.]</td>\n",
       "      <td>GeoPosition[{54.21667, -113.}]</td>\n",
       "    </tr>\n",
       "    <tr>\n",
       "      <th>3</th>\n",
       "      <td>Acapulco</td>\n",
       "      <td>10</td>\n",
       "      <td>Valid</td>\n",
       "      <td>Acapulcoite</td>\n",
       "      <td>Quantity[1914, \"Grams\"]</td>\n",
       "      <td>Fell</td>\n",
       "      <td>DateObject[{1976}, \"Year\", \"Gregorian\", -5.]</td>\n",
       "      <td>GeoPosition[{16.88333, -99.9}]</td>\n",
       "    </tr>\n",
       "    <tr>\n",
       "      <th>4</th>\n",
       "      <td>Achiras</td>\n",
       "      <td>370</td>\n",
       "      <td>Valid</td>\n",
       "      <td>L6</td>\n",
       "      <td>Quantity[780, \"Grams\"]</td>\n",
       "      <td>Fell</td>\n",
       "      <td>DateObject[{1902}, \"Year\", \"Gregorian\", -5.]</td>\n",
       "      <td>GeoPosition[{-33.16667, -64.95}]</td>\n",
       "    </tr>\n",
       "  </tbody>\n",
       "</table>\n",
       "</div>"
      ],
      "text/plain": [
       "       Name   ID NameType Classification                       Mass  Fall  \\\n",
       "0    Aachen    1    Valid             L5      Quantity[21, \"Grams\"]  Fell   \n",
       "1    Aarhus    2    Valid             H6     Quantity[720, \"Grams\"]  Fell   \n",
       "2      Abee    6    Valid            EH4  Quantity[107000, \"Grams\"]  Fell   \n",
       "3  Acapulco   10    Valid    Acapulcoite    Quantity[1914, \"Grams\"]  Fell   \n",
       "4   Achiras  370    Valid             L6     Quantity[780, \"Grams\"]  Fell   \n",
       "\n",
       "                                           Year  \\\n",
       "0  DateObject[{1880}, \"Year\", \"Gregorian\", -5.]   \n",
       "1  DateObject[{1951}, \"Year\", \"Gregorian\", -5.]   \n",
       "2  DateObject[{1952}, \"Year\", \"Gregorian\", -5.]   \n",
       "3  DateObject[{1976}, \"Year\", \"Gregorian\", -5.]   \n",
       "4  DateObject[{1902}, \"Year\", \"Gregorian\", -5.]   \n",
       "\n",
       "                         Coordinates  \n",
       "0     GeoPosition[{50.775, 6.08333}]  \n",
       "1  GeoPosition[{56.18333, 10.23333}]  \n",
       "2     GeoPosition[{54.21667, -113.}]  \n",
       "3     GeoPosition[{16.88333, -99.9}]  \n",
       "4   GeoPosition[{-33.16667, -64.95}]  "
      ]
     },
     "execution_count": 7,
     "metadata": {},
     "output_type": "execute_result"
    }
   ],
   "source": [
    "df=pd.read_csv(\"Meteorite Landings.csv\")\n",
    "df.head()\n"
   ]
  },
  {
   "cell_type": "code",
   "execution_count": 8,
   "id": "eb4cb56f-5ea5-4d5b-8cd2-26a45f277746",
   "metadata": {},
   "outputs": [
    {
     "name": "stdout",
     "output_type": "stream",
     "text": [
      "<class 'pandas.core.frame.DataFrame'>\n",
      "RangeIndex: 45716 entries, 0 to 45715\n",
      "Data columns (total 8 columns):\n",
      " #   Column          Non-Null Count  Dtype \n",
      "---  ------          --------------  ----- \n",
      " 0   Name            45716 non-null  object\n",
      " 1   ID              45716 non-null  int64 \n",
      " 2   NameType        45716 non-null  object\n",
      " 3   Classification  45716 non-null  object\n",
      " 4   Mass            45716 non-null  object\n",
      " 5   Fall            45716 non-null  object\n",
      " 6   Year            45716 non-null  object\n",
      " 7   Coordinates     45716 non-null  object\n",
      "dtypes: int64(1), object(7)\n",
      "memory usage: 2.8+ MB\n"
     ]
    }
   ],
   "source": [
    "df.info()\n"
   ]
  },
  {
   "cell_type": "code",
   "execution_count": 9,
   "id": "6f825ce7-d2f7-4e23-9f06-9ee491db2931",
   "metadata": {},
   "outputs": [
    {
     "data": {
      "text/plain": [
       "<bound method NDFrame.describe of              Name     ID NameType        Classification  \\\n",
       "0          Aachen      1    Valid                    L5   \n",
       "1          Aarhus      2    Valid                    H6   \n",
       "2            Abee      6    Valid                   EH4   \n",
       "3        Acapulco     10    Valid           Acapulcoite   \n",
       "4         Achiras    370    Valid                    L6   \n",
       "...           ...    ...      ...                   ...   \n",
       "45711  Zillah 002  31356    Valid               Eucrite   \n",
       "45712      Zinder  30409    Valid  Pallasite, ungrouped   \n",
       "45713        Zlin  30410    Valid                    H4   \n",
       "45714   Zubkovsky  31357    Valid                    L6   \n",
       "45715  Zulu Queen  30414    Valid                  L3.7   \n",
       "\n",
       "                            Mass   Fall  \\\n",
       "0          Quantity[21, \"Grams\"]   Fell   \n",
       "1         Quantity[720, \"Grams\"]   Fell   \n",
       "2      Quantity[107000, \"Grams\"]   Fell   \n",
       "3        Quantity[1914, \"Grams\"]   Fell   \n",
       "4         Quantity[780, \"Grams\"]   Fell   \n",
       "...                          ...    ...   \n",
       "45711     Quantity[172, \"Grams\"]  Found   \n",
       "45712      Quantity[46, \"Grams\"]  Found   \n",
       "45713     Quantity[3.3, \"Grams\"]  Found   \n",
       "45714    Quantity[2167, \"Grams\"]  Found   \n",
       "45715     Quantity[200, \"Grams\"]  Found   \n",
       "\n",
       "                                               Year  \\\n",
       "0      DateObject[{1880}, \"Year\", \"Gregorian\", -5.]   \n",
       "1      DateObject[{1951}, \"Year\", \"Gregorian\", -5.]   \n",
       "2      DateObject[{1952}, \"Year\", \"Gregorian\", -5.]   \n",
       "3      DateObject[{1976}, \"Year\", \"Gregorian\", -5.]   \n",
       "4      DateObject[{1902}, \"Year\", \"Gregorian\", -5.]   \n",
       "...                                             ...   \n",
       "45711  DateObject[{1990}, \"Year\", \"Gregorian\", -5.]   \n",
       "45712  DateObject[{1999}, \"Year\", \"Gregorian\", -5.]   \n",
       "45713  DateObject[{1939}, \"Year\", \"Gregorian\", -5.]   \n",
       "45714  DateObject[{2003}, \"Year\", \"Gregorian\", -5.]   \n",
       "45715  DateObject[{1976}, \"Year\", \"Gregorian\", -5.]   \n",
       "\n",
       "                               Coordinates  \n",
       "0           GeoPosition[{50.775, 6.08333}]  \n",
       "1        GeoPosition[{56.18333, 10.23333}]  \n",
       "2           GeoPosition[{54.21667, -113.}]  \n",
       "3           GeoPosition[{16.88333, -99.9}]  \n",
       "4         GeoPosition[{-33.16667, -64.95}]  \n",
       "...                                    ...  \n",
       "45711       GeoPosition[{29.037, 17.0185}]  \n",
       "45712     GeoPosition[{13.78333, 8.96667}]  \n",
       "45713       GeoPosition[{49.25, 17.66667}]  \n",
       "45714     GeoPosition[{49.78917, 41.5046}]  \n",
       "45715  GeoPosition[{33.98333, -115.68333}]  \n",
       "\n",
       "[45716 rows x 8 columns]>"
      ]
     },
     "execution_count": 9,
     "metadata": {},
     "output_type": "execute_result"
    }
   ],
   "source": [
    "df.describe"
   ]
  },
  {
   "cell_type": "code",
   "execution_count": 10,
   "id": "e717eb3a-ba9e-45e0-9e9e-e15024d27855",
   "metadata": {},
   "outputs": [
    {
     "data": {
      "text/html": [
       "<div>\n",
       "<style scoped>\n",
       "    .dataframe tbody tr th:only-of-type {\n",
       "        vertical-align: middle;\n",
       "    }\n",
       "\n",
       "    .dataframe tbody tr th {\n",
       "        vertical-align: top;\n",
       "    }\n",
       "\n",
       "    .dataframe thead th {\n",
       "        text-align: right;\n",
       "    }\n",
       "</style>\n",
       "<table border=\"1\" class=\"dataframe\">\n",
       "  <thead>\n",
       "    <tr style=\"text-align: right;\">\n",
       "      <th></th>\n",
       "      <th>Name</th>\n",
       "      <th>ID</th>\n",
       "      <th>NameType</th>\n",
       "      <th>Classification</th>\n",
       "      <th>Mass</th>\n",
       "      <th>Fall</th>\n",
       "      <th>Year</th>\n",
       "      <th>Coordinates</th>\n",
       "    </tr>\n",
       "  </thead>\n",
       "  <tbody>\n",
       "    <tr>\n",
       "      <th>0</th>\n",
       "      <td>False</td>\n",
       "      <td>False</td>\n",
       "      <td>False</td>\n",
       "      <td>False</td>\n",
       "      <td>False</td>\n",
       "      <td>False</td>\n",
       "      <td>False</td>\n",
       "      <td>False</td>\n",
       "    </tr>\n",
       "    <tr>\n",
       "      <th>1</th>\n",
       "      <td>False</td>\n",
       "      <td>False</td>\n",
       "      <td>False</td>\n",
       "      <td>False</td>\n",
       "      <td>False</td>\n",
       "      <td>False</td>\n",
       "      <td>False</td>\n",
       "      <td>False</td>\n",
       "    </tr>\n",
       "    <tr>\n",
       "      <th>2</th>\n",
       "      <td>False</td>\n",
       "      <td>False</td>\n",
       "      <td>False</td>\n",
       "      <td>False</td>\n",
       "      <td>False</td>\n",
       "      <td>False</td>\n",
       "      <td>False</td>\n",
       "      <td>False</td>\n",
       "    </tr>\n",
       "    <tr>\n",
       "      <th>3</th>\n",
       "      <td>False</td>\n",
       "      <td>False</td>\n",
       "      <td>False</td>\n",
       "      <td>False</td>\n",
       "      <td>False</td>\n",
       "      <td>False</td>\n",
       "      <td>False</td>\n",
       "      <td>False</td>\n",
       "    </tr>\n",
       "    <tr>\n",
       "      <th>4</th>\n",
       "      <td>False</td>\n",
       "      <td>False</td>\n",
       "      <td>False</td>\n",
       "      <td>False</td>\n",
       "      <td>False</td>\n",
       "      <td>False</td>\n",
       "      <td>False</td>\n",
       "      <td>False</td>\n",
       "    </tr>\n",
       "    <tr>\n",
       "      <th>...</th>\n",
       "      <td>...</td>\n",
       "      <td>...</td>\n",
       "      <td>...</td>\n",
       "      <td>...</td>\n",
       "      <td>...</td>\n",
       "      <td>...</td>\n",
       "      <td>...</td>\n",
       "      <td>...</td>\n",
       "    </tr>\n",
       "    <tr>\n",
       "      <th>45711</th>\n",
       "      <td>False</td>\n",
       "      <td>False</td>\n",
       "      <td>False</td>\n",
       "      <td>False</td>\n",
       "      <td>False</td>\n",
       "      <td>False</td>\n",
       "      <td>False</td>\n",
       "      <td>False</td>\n",
       "    </tr>\n",
       "    <tr>\n",
       "      <th>45712</th>\n",
       "      <td>False</td>\n",
       "      <td>False</td>\n",
       "      <td>False</td>\n",
       "      <td>False</td>\n",
       "      <td>False</td>\n",
       "      <td>False</td>\n",
       "      <td>False</td>\n",
       "      <td>False</td>\n",
       "    </tr>\n",
       "    <tr>\n",
       "      <th>45713</th>\n",
       "      <td>False</td>\n",
       "      <td>False</td>\n",
       "      <td>False</td>\n",
       "      <td>False</td>\n",
       "      <td>False</td>\n",
       "      <td>False</td>\n",
       "      <td>False</td>\n",
       "      <td>False</td>\n",
       "    </tr>\n",
       "    <tr>\n",
       "      <th>45714</th>\n",
       "      <td>False</td>\n",
       "      <td>False</td>\n",
       "      <td>False</td>\n",
       "      <td>False</td>\n",
       "      <td>False</td>\n",
       "      <td>False</td>\n",
       "      <td>False</td>\n",
       "      <td>False</td>\n",
       "    </tr>\n",
       "    <tr>\n",
       "      <th>45715</th>\n",
       "      <td>False</td>\n",
       "      <td>False</td>\n",
       "      <td>False</td>\n",
       "      <td>False</td>\n",
       "      <td>False</td>\n",
       "      <td>False</td>\n",
       "      <td>False</td>\n",
       "      <td>False</td>\n",
       "    </tr>\n",
       "  </tbody>\n",
       "</table>\n",
       "<p>45716 rows × 8 columns</p>\n",
       "</div>"
      ],
      "text/plain": [
       "        Name     ID  NameType  Classification   Mass   Fall   Year  \\\n",
       "0      False  False     False           False  False  False  False   \n",
       "1      False  False     False           False  False  False  False   \n",
       "2      False  False     False           False  False  False  False   \n",
       "3      False  False     False           False  False  False  False   \n",
       "4      False  False     False           False  False  False  False   \n",
       "...      ...    ...       ...             ...    ...    ...    ...   \n",
       "45711  False  False     False           False  False  False  False   \n",
       "45712  False  False     False           False  False  False  False   \n",
       "45713  False  False     False           False  False  False  False   \n",
       "45714  False  False     False           False  False  False  False   \n",
       "45715  False  False     False           False  False  False  False   \n",
       "\n",
       "       Coordinates  \n",
       "0            False  \n",
       "1            False  \n",
       "2            False  \n",
       "3            False  \n",
       "4            False  \n",
       "...            ...  \n",
       "45711        False  \n",
       "45712        False  \n",
       "45713        False  \n",
       "45714        False  \n",
       "45715        False  \n",
       "\n",
       "[45716 rows x 8 columns]"
      ]
     },
     "execution_count": 10,
     "metadata": {},
     "output_type": "execute_result"
    }
   ],
   "source": [
    "df.isnull()\n"
   ]
  },
  {
   "cell_type": "code",
   "execution_count": 11,
   "id": "eaca2d24-3db8-4f05-a826-ce24c6932374",
   "metadata": {},
   "outputs": [
    {
     "data": {
      "text/plain": [
       "Name              0\n",
       "ID                0\n",
       "NameType          0\n",
       "Classification    0\n",
       "Mass              0\n",
       "Fall              0\n",
       "Year              0\n",
       "Coordinates       0\n",
       "dtype: int64"
      ]
     },
     "execution_count": 11,
     "metadata": {},
     "output_type": "execute_result"
    }
   ],
   "source": [
    "df.isnull().sum()\n"
   ]
  },
  {
   "cell_type": "code",
   "execution_count": 12,
   "id": "e77e7d6e-4d4d-4fc8-a3b3-d9e473f275d3",
   "metadata": {},
   "outputs": [
    {
     "name": "stdout",
     "output_type": "stream",
     "text": [
      "['name', 'id', 'nametype', 'classification', 'mass', 'fall', 'year', 'coordinates']\n"
     ]
    }
   ],
   "source": [
    "df.columns = df.columns.str.strip()  \n",
    "df.columns = df.columns.str.lower()  \n",
    "print(df.columns.tolist())\n"
   ]
  },
  {
   "cell_type": "code",
   "execution_count": 13,
   "id": "6b6d2ce5-5416-4176-b1d5-88a8a000977a",
   "metadata": {},
   "outputs": [],
   "source": [
    "df = df.dropna(subset=[\"mass\", \"year\", \"coordinates\"])\n"
   ]
  },
  {
   "cell_type": "code",
   "execution_count": 14,
   "id": "978f5649-344f-47fa-b300-f037345ed873",
   "metadata": {},
   "outputs": [
    {
     "name": "stdout",
     "output_type": "stream",
     "text": [
      "\n",
      "Descriptive Statistics:\n",
      "==================================================\n"
     ]
    }
   ],
   "source": [
    "print(\"\\nDescriptive Statistics:\")\n",
    "print(\"=\"*50)\n",
    "# Flexible column detection\n",
    "masscol = None\n",
    "latcol = None\n",
    "longcol = None\n",
    "yearcol = None\n",
    "\n",
    "for col in df.columns:\n",
    "    if 'mass' in col.lower():\n",
    "        masscol = col\n",
    "    elif 'lat' in col.lower() or 'latitude' in col.lower():\n",
    "        latcol = col\n",
    "    elif 'long' in col.lower() or 'longitude' in col.lower():\n",
    "        longcol = col\n",
    "    elif 'year' in col.lower():\n",
    "        yearcol = col\n"
   ]
  },
  {
   "cell_type": "code",
   "execution_count": 15,
   "id": "a236131d",
   "metadata": {},
   "outputs": [],
   "source": [
    "# from Quantity[123, \"Gr\"] we take just mass value so numerical \n",
    "import re\n",
    "\n",
    "def mass_number(mass_str):\n",
    "    if pd.isnull(mass_str):\n",
    "        return None\n",
    "    result = re.findall(r\"\\d+\\.*\\d*\", str(mass_str))\n",
    "    return float(result[0]) if result else None\n",
    "\n",
    "df['mass_g'] = df['mass'].apply(mass_number)\n"
   ]
  },
  {
   "cell_type": "code",
   "execution_count": 16,
   "id": "8555f388",
   "metadata": {},
   "outputs": [],
   "source": [
    "def year_number(year_str):\n",
    "    if pd.isnull(year_str):\n",
    "        return None\n",
    "    result=re.findall(r\"\\d{4}\",str(year_str)) #returns 4 digits of year like 1998\n",
    "    return int(result[0]) if result else None\n",
    "df['year_clean'] = df['year'].apply(year_number)"
   ]
  },
  {
   "cell_type": "code",
   "execution_count": 18,
   "id": "2b1574f4",
   "metadata": {},
   "outputs": [],
   "source": [
    "# taking column that looks like 'geoposition[{53.2, 22.5}]'\n",
    "def get_lat(coord):\n",
    "    if pd.isnull(coord):\n",
    "        return None\n",
    "    result = re.findall(r\"\\{([-\\d.]+),\", str(coord))\n",
    "    return float(result[0]) if result else None\n",
    "\n",
    "def get_long(coord):\n",
    "    if pd.isnull(coord):\n",
    "        return None\n",
    "    result = re.findall(r\", ([-\\d.]+)\\}\", str(coord))\n",
    "    return float(result[0]) if result else None\n",
    "\n",
    "df['lat'] = df['coordinates'].apply(get_lat)\n",
    "df['long'] = df['coordinates'].apply(get_long)\n",
    "\n",
    "# null values removal and making sure values are correct \n",
    "df = df.dropna(subset=['mass_g', 'year_clean', 'lat', 'long'])\n",
    "df = df[(df['mass_g'] > 0) & (df['lat'].between(-90, 90)) & (df['long'].between(-180, 180))]\n"
   ]
  },
  {
   "cell_type": "code",
   "execution_count": 21,
   "id": "8a0daad1-1e05-4afb-9ed1-4483812b5249",
   "metadata": {},
   "outputs": [
    {
     "name": "stdout",
     "output_type": "stream",
     "text": [
      "Fell vs Found counts:\n",
      " fall\n",
      "Found    30847\n",
      "Fell      1063\n",
      "Name: count, dtype: int64\n"
     ]
    }
   ],
   "source": [
    "#  meteorites thate 'Fell' versus 'Found' \n",
    "fellvsfound = df['fall'].value_counts()\n",
    "print(\"Fell vs Found counts:\\n\", fellvsfound)"
   ]
  },
  {
   "cell_type": "code",
   "execution_count": 34,
   "id": "0645503d-feff-4824-a9bc-3c7ce9ed5db8",
   "metadata": {},
   "outputs": [
    {
     "name": "stdout",
     "output_type": "stream",
     "text": [
      "L6 1708.5 grams\n",
      "H5 2563.6 grams\n",
      "H4 1098.1 grams\n",
      "H6 1112.7 grams\n",
      "L5 2832.2 grams\n"
     ]
    }
   ],
   "source": [
    "avgmass1= df['classification'].value_counts().head().index\n",
    "for cls in avgmass1:\n",
    "     avgmass = df[df['classification'] == cls]['mass_g'].mean()\n",
    "     print(f\"{cls:} {avgmass:.1f} grams\")"
   ]
  },
  {
   "cell_type": "code",
   "execution_count": 55,
   "id": "f4589f5d-508c-44c5-abc0-cf6469283495",
   "metadata": {},
   "outputs": [
    {
     "name": "stdout",
     "output_type": "stream",
     "text": [
      "Discoveries per decade:\n",
      " sortdate\n",
      "1390       1\n",
      "1490       2\n",
      "1570       1\n",
      "1580       1\n",
      "1600       1\n",
      "1620       3\n",
      "1630       2\n",
      "1660       1\n",
      "1670       1\n",
      "1680       1\n",
      "1710       2\n",
      "1720       2\n",
      "1740       3\n",
      "1750       3\n",
      "1760       3\n",
      "1770       3\n",
      "1780       5\n",
      "1790      11\n",
      "1800      21\n",
      "1810      30\n",
      "1820      28\n",
      "1830      33\n",
      "1840      47\n",
      "1850      71\n",
      "1860      95\n",
      "1870      88\n",
      "1880     121\n",
      "1890     125\n",
      "1900     136\n",
      "1910     151\n",
      "1920     157\n",
      "1930     298\n",
      "1940     188\n",
      "1950     201\n",
      "1960     375\n",
      "1970    4954\n",
      "1980    6801\n",
      "1990    9061\n",
      "2000    8060\n",
      "2010     823\n",
      "Name: count, dtype: int64\n"
     ]
    }
   ],
   "source": [
    "#adding col Time-Based Analysis\n",
    "df['year_numeric'] = df['year'].str.extract(r'\\[{(\\d+)}').astype(float)\n",
    "# sortdate column using the extracted numeric year\n",
    "df['sortdate'] = (df['year_numeric'].astype(int) // 10) * 10\n",
    "# counts nd sort \n",
    "decadecounts = df['sortdate'].value_counts().sort_index()\n",
    "print(\"Discoveries per decade:\\n\", decadecounts)"
   ]
  },
  {
   "cell_type": "code",
   "execution_count": 45,
   "id": "7fc62e56-c816-4c7b-aebf-7c2b2bfc4e1f",
   "metadata": {},
   "outputs": [
    {
     "name": "stdout",
     "output_type": "stream",
     "text": [
      "Mean: 18.55 kg\n",
      "Median: 0.03 kg\n",
      "Std dev: 687.05 kg\n",
      "Sum: 592055.32 kg\n",
      "Max: 60000.00 kg\n"
     ]
    }
   ],
   "source": [
    "massss = df['mass_g'] / 1000\n",
    "print(f\"mean: {massss.mean():.2f} kg\")\n",
    "print(f\"median: {massss.median():.2f} kg\")\n",
    "print(f\"std dev: {massss.std():.2f} kg\")\n",
    "print(f\"Sum: {massss.sum():.2f} kg\")\n",
    "print(f\"max: {massss.max():.2f} kg\")\n"
   ]
  },
  {
   "cell_type": "code",
   "execution_count": 46,
   "id": "a94d4b4e-94bd-45c7-8370-d47274636d8a",
   "metadata": {},
   "outputs": [
    {
     "data": {
      "text/plain": [
       "<bound method NDFrame.head of              name     id nametype        classification  \\\n",
       "0          Aachen      1    Valid                    L5   \n",
       "1          Aarhus      2    Valid                    H6   \n",
       "2            Abee      6    Valid                   EH4   \n",
       "3        Acapulco     10    Valid           Acapulcoite   \n",
       "4         Achiras    370    Valid                    L6   \n",
       "...           ...    ...      ...                   ...   \n",
       "45711  Zillah 002  31356    Valid               Eucrite   \n",
       "45712      Zinder  30409    Valid  Pallasite, ungrouped   \n",
       "45713        Zlin  30410    Valid                    H4   \n",
       "45714   Zubkovsky  31357    Valid                    L6   \n",
       "45715  Zulu Queen  30414    Valid                  L3.7   \n",
       "\n",
       "                            mass   fall  \\\n",
       "0          Quantity[21, \"Grams\"]   Fell   \n",
       "1         Quantity[720, \"Grams\"]   Fell   \n",
       "2      Quantity[107000, \"Grams\"]   Fell   \n",
       "3        Quantity[1914, \"Grams\"]   Fell   \n",
       "4         Quantity[780, \"Grams\"]   Fell   \n",
       "...                          ...    ...   \n",
       "45711     Quantity[172, \"Grams\"]  Found   \n",
       "45712      Quantity[46, \"Grams\"]  Found   \n",
       "45713     Quantity[3.3, \"Grams\"]  Found   \n",
       "45714    Quantity[2167, \"Grams\"]  Found   \n",
       "45715     Quantity[200, \"Grams\"]  Found   \n",
       "\n",
       "                                               year  \\\n",
       "0      DateObject[{1880}, \"Year\", \"Gregorian\", -5.]   \n",
       "1      DateObject[{1951}, \"Year\", \"Gregorian\", -5.]   \n",
       "2      DateObject[{1952}, \"Year\", \"Gregorian\", -5.]   \n",
       "3      DateObject[{1976}, \"Year\", \"Gregorian\", -5.]   \n",
       "4      DateObject[{1902}, \"Year\", \"Gregorian\", -5.]   \n",
       "...                                             ...   \n",
       "45711  DateObject[{1990}, \"Year\", \"Gregorian\", -5.]   \n",
       "45712  DateObject[{1999}, \"Year\", \"Gregorian\", -5.]   \n",
       "45713  DateObject[{1939}, \"Year\", \"Gregorian\", -5.]   \n",
       "45714  DateObject[{2003}, \"Year\", \"Gregorian\", -5.]   \n",
       "45715  DateObject[{1976}, \"Year\", \"Gregorian\", -5.]   \n",
       "\n",
       "                               coordinates    mass_g  year_clean       lat  \\\n",
       "0           GeoPosition[{50.775, 6.08333}]      21.0      1880.0  50.77500   \n",
       "1        GeoPosition[{56.18333, 10.23333}]     720.0      1951.0  56.18333   \n",
       "2           GeoPosition[{54.21667, -113.}]  107000.0      1952.0  54.21667   \n",
       "3           GeoPosition[{16.88333, -99.9}]    1914.0      1976.0  16.88333   \n",
       "4         GeoPosition[{-33.16667, -64.95}]     780.0      1902.0 -33.16667   \n",
       "...                                    ...       ...         ...       ...   \n",
       "45711       GeoPosition[{29.037, 17.0185}]     172.0      1990.0  29.03700   \n",
       "45712     GeoPosition[{13.78333, 8.96667}]      46.0      1999.0  13.78333   \n",
       "45713       GeoPosition[{49.25, 17.66667}]       3.3      1939.0  49.25000   \n",
       "45714     GeoPosition[{49.78917, 41.5046}]    2167.0      2003.0  49.78917   \n",
       "45715  GeoPosition[{33.98333, -115.68333}]     200.0      1976.0  33.98333   \n",
       "\n",
       "            long  year_numeric  sortdate  \n",
       "0        6.08333        1880.0      1880  \n",
       "1       10.23333        1951.0      1950  \n",
       "2     -113.00000        1952.0      1950  \n",
       "3      -99.90000        1976.0      1970  \n",
       "4      -64.95000        1902.0      1900  \n",
       "...          ...           ...       ...  \n",
       "45711   17.01850        1990.0      1990  \n",
       "45712    8.96667        1999.0      1990  \n",
       "45713   17.66667        1939.0      1930  \n",
       "45714   41.50460        2003.0      2000  \n",
       "45715 -115.68333        1976.0      1970  \n",
       "\n",
       "[31910 rows x 14 columns]>"
      ]
     },
     "execution_count": 46,
     "metadata": {},
     "output_type": "execute_result"
    }
   ],
   "source": [
    "df.head\n",
    "\n"
   ]
  },
  {
   "cell_type": "code",
   "execution_count": 47,
   "id": "ce3e1c45-9e05-4537-af15-93b4e9b0da4c",
   "metadata": {},
   "outputs": [],
   "source": [
    "import matplotlib.pyplot as plt\n"
   ]
  },
  {
   "cell_type": "code",
   "execution_count": 63,
   "id": "01c35a01-0395-4abb-a02d-258e4b8591b3",
   "metadata": {},
   "outputs": [
    {
     "data": {
      "image/png": "[encoded data removed]",
      "text/plain": [
       "<Figure size 640x480 with 1 Axes>"
      ]
     },
     "metadata": {},
     "output_type": "display_data"
    }
   ],
   "source": [
    "# 4. Scatter plot: Lat/long of landing locations\n",
    "plt.scatter(df['long'], df['lat'], s=1, alpha=0.5)\n",
    "plt.title('meteorite landings scatter graph')\n",
    "plt.xlabel('longitude')\n",
    "plt.ylabel('lantitude')\n",
    "plt.show()\n"
   ]
  },
  {
   "cell_type": "code",
   "execution_count": 49,
   "id": "fd1a4741-1804-49b9-9835-284210ec7f59",
   "metadata": {},
   "outputs": [
    {
     "data": {
      "image/png": "[encoded data removed]",
      "text/plain": [
       "<Figure size 640x480 with 1 Axes>"
      ]
     },
     "metadata": {},
     "output_type": "display_data"
    }
   ],
   "source": [
    "#fell vs found\n",
    "df['fall'].value_counts().plot(kind='pie')\n",
    "plt.title('meteorites:fell vs fount')\n",
    "plt.show()"
   ]
  },
  {
   "cell_type": "code",
   "execution_count": 53,
   "id": "419ea2ae-2405-4c17-ba86-59952b5cb26e",
   "metadata": {},
   "outputs": [
    {
     "data": {
      "image/png": "[encoded data removed]",
      "text/plain": [
       "<Figure size 640x480 with 1 Axes>"
      ]
     },
     "metadata": {},
     "output_type": "display_data"
    }
   ],
   "source": [
    "plt.hist(df['mass_g'], bins=10)\n",
    "plt.title(\"Histogram of Meteorite Mass\")\n",
    "plt.xlabel(\"Mass (g)\")\n",
    "plt.ylabel(\"Frequency\")\n",
    "plt.show()"
   ]
  },
  {
   "cell_type": "code",
   "execution_count": 60,
   "id": "47c86dc9-696e-4a75-8e65-c749b3f6d37d",
   "metadata": {},
   "outputs": [
    {
     "data": {
      "image/png": "[encoded data removed]",
      "text/plain": [
       "<Figure size 640x480 with 1 Axes>"
      ]
     },
     "metadata": {},
     "output_type": "display_data"
    }
   ],
   "source": [
    "decadecounts.plot(kind='bar')\n",
    "plt.title(\"meteorites in decades\")\n",
    "plt.xlabel(\"classification\")\n",
    "plt.xlim(16, 48)\n",
    "plt.ylabel('avg mass (g)')\n",
    "plt.show()"
   ]
  },
  {
   "cell_type": "code",
   "execution_count": 62,
   "id": "0634c5a8-0304-4102-8090-cad8230f88bf",
   "metadata": {},
   "outputs": [
    {
     "data": {
      "image/png": "[encoded data removed]",
      "text/plain": [
       "<Figure size 640x480 with 1 Axes>"
      ]
     },
     "metadata": {},
     "output_type": "display_data"
    }
   ],
   "source": [
    "plt.boxplot(df['mass_g'])\n",
    "plt.title(\"Boxplot of Meteorite Mass\")\n",
    "plt.ylabel(\"Mass (g)\")\n",
    "plt.show()\n"
   ]
  },
  {
   "cell_type": "code",
   "execution_count": null,
   "id": "0e9dca24-fb1e-4b4c-98b2-ac896b24bf46",
   "metadata": {},
   "outputs": [],
   "source": []
  }
 ],
 "metadata": {
  "kernelspec": {
   "display_name": "Python [conda env:base] *",
   "language": "python",
   "name": "conda-base-py"
  },
  "language_info": {
   "codemirror_mode": {
    "name": "ipython",
    "version": 3
   },
   "file_extension": ".py",
   "mimetype": "text/x-python",
   "name": "python",
   "nbconvert_exporter": "python",
   "pygments_lexer": "ipython3",
   "version": "3.13.5"
  }
 },
 "nbformat": 4,
 "nbformat_minor": 5
}
